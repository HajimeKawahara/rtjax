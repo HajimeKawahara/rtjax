{
 "cells": [
  {
   "cell_type": "markdown",
   "metadata": {},
   "source": []
  },
  {
   "cell_type": "code",
   "execution_count": 1,
   "metadata": {},
   "outputs": [],
   "source": [
    "from sympy import *\n",
    "from sympy import symbols\n",
    "from sympy.matrices import Matrix"
   ]
  },
  {
   "cell_type": "code",
   "execution_count": 2,
   "metadata": {},
   "outputs": [],
   "source": [
    "a, b, c, d  = symbols('a b c d')\n",
    "e, f, g, h  = symbols('e f g h')"
   ]
  },
  {
   "cell_type": "code",
   "execution_count": 3,
   "metadata": {},
   "outputs": [],
   "source": [
    "A = Matrix([[a,b],[c,d]])\n",
    "B = Matrix([[e,f],[g,h]])\n",
    "J = Matrix([[0,1],[1,0]])"
   ]
  },
  {
   "cell_type": "code",
   "execution_count": 4,
   "metadata": {},
   "outputs": [
    {
     "data": {
      "text/latex": [
       "$\\displaystyle \\left[\\begin{matrix}0 & 1\\\\1 & 0\\end{matrix}\\right]$"
      ],
      "text/plain": [
       "Matrix([\n",
       "[0, 1],\n",
       "[1, 0]])"
      ]
     },
     "execution_count": 4,
     "metadata": {},
     "output_type": "execute_result"
    }
   ],
   "source": [
    "J.inv()"
   ]
  },
  {
   "cell_type": "code",
   "execution_count": 5,
   "metadata": {},
   "outputs": [
    {
     "data": {
      "text/latex": [
       "$\\displaystyle \\left[\\begin{matrix}b & a\\\\d & c\\end{matrix}\\right]$"
      ],
      "text/plain": [
       "Matrix([\n",
       "[b, a],\n",
       "[d, c]])"
      ]
     },
     "execution_count": 5,
     "metadata": {},
     "output_type": "execute_result"
    }
   ],
   "source": [
    "A@J"
   ]
  },
  {
   "cell_type": "code",
   "execution_count": 8,
   "metadata": {},
   "outputs": [],
   "source": [
    "Z = Matrix(BlockMatrix([[A, B@J], [A@J, B]]))"
   ]
  },
  {
   "cell_type": "code",
   "execution_count": 9,
   "metadata": {},
   "outputs": [
    {
     "data": {
      "text/latex": [
       "$\\displaystyle \\left[\\begin{matrix}a & b & f & e\\\\c & d & h & g\\\\b & a & e & f\\\\d & c & g & h\\end{matrix}\\right]$"
      ],
      "text/plain": [
       "Matrix([\n",
       "[a, b, f, e],\n",
       "[c, d, h, g],\n",
       "[b, a, e, f],\n",
       "[d, c, g, h]])"
      ]
     },
     "execution_count": 9,
     "metadata": {},
     "output_type": "execute_result"
    }
   ],
   "source": [
    "Z"
   ]
  },
  {
   "cell_type": "code",
   "execution_count": 10,
   "metadata": {},
   "outputs": [],
   "source": [
    "w, x, y, z = symbols('w x y z')\n",
    "D = diag(w, x, y, z)"
   ]
  },
  {
   "cell_type": "code",
   "execution_count": 11,
   "metadata": {},
   "outputs": [
    {
     "data": {
      "text/latex": [
       "$\\displaystyle \\left[\\begin{matrix}w & 0 & 0 & 0\\\\0 & x & 0 & 0\\\\0 & 0 & y & 0\\\\0 & 0 & 0 & z\\end{matrix}\\right]$"
      ],
      "text/plain": [
       "Matrix([\n",
       "[w, 0, 0, 0],\n",
       "[0, x, 0, 0],\n",
       "[0, 0, y, 0],\n",
       "[0, 0, 0, z]])"
      ]
     },
     "execution_count": 11,
     "metadata": {},
     "output_type": "execute_result"
    }
   ],
   "source": [
    "D"
   ]
  },
  {
   "cell_type": "code",
   "execution_count": 12,
   "metadata": {},
   "outputs": [],
   "source": [
    "Q = Z@D@Z.inv()"
   ]
  },
  {
   "cell_type": "code",
   "execution_count": 13,
   "metadata": {},
   "outputs": [],
   "source": [
    "sQ = simplify(Q)"
   ]
  },
  {
   "cell_type": "code",
   "execution_count": 17,
   "metadata": {},
   "outputs": [
    {
     "data": {
      "text/latex": [
       "$\\displaystyle \\left[\\begin{matrix}\\frac{a w \\left(a g^{2} - a h^{2} - c e g + c f h + d e h - d f g\\right) - b x \\left(b g^{2} - b h^{2} + c e h - c f g - d e g + d f h\\right) - e z \\left(a c g - a d h + b c h - b d g - c^{2} e + d^{2} e\\right) + f y \\left(a c h - a d g + b c g - b d h - c^{2} f + d^{2} f\\right)}{a^{2} g^{2} - a^{2} h^{2} - 2 a c e g + 2 a c f h + 2 a d e h - 2 a d f g - b^{2} g^{2} + b^{2} h^{2} - 2 b c e h + 2 b c f g + 2 b d e g - 2 b d f h + c^{2} e^{2} - c^{2} f^{2} - d^{2} e^{2} + d^{2} f^{2}} & \\frac{- a w \\left(a e g - a f h + b e h - b f g - c e^{2} + c f^{2}\\right) + b x \\left(a e h - a f g + b e g - b f h - d e^{2} + d f^{2}\\right) + e z \\left(a^{2} g - a c e - a d f - b^{2} g + b c f + b d e\\right) - f y \\left(a^{2} h - a c f - a d e - b^{2} h + b c e + b d f\\right)}{a^{2} g^{2} - a^{2} h^{2} - 2 a c e g + 2 a c f h + 2 a d e h - 2 a d f g - b^{2} g^{2} + b^{2} h^{2} - 2 b c e h + 2 b c f g + 2 b d e g - 2 b d f h + c^{2} e^{2} - c^{2} f^{2} - d^{2} e^{2} + d^{2} f^{2}} & \\frac{- a w \\left(b g^{2} - b h^{2} + c e h - c f g - d e g + d f h\\right) + b x \\left(a g^{2} - a h^{2} - c e g + c f h + d e h - d f g\\right) + e z \\left(a c h - a d g + b c g - b d h - c^{2} f + d^{2} f\\right) - f y \\left(a c g - a d h + b c h - b d g - c^{2} e + d^{2} e\\right)}{a^{2} g^{2} - a^{2} h^{2} - 2 a c e g + 2 a c f h + 2 a d e h - 2 a d f g - b^{2} g^{2} + b^{2} h^{2} - 2 b c e h + 2 b c f g + 2 b d e g - 2 b d f h + c^{2} e^{2} - c^{2} f^{2} - d^{2} e^{2} + d^{2} f^{2}} & \\frac{a w \\left(a e h - a f g + b e g - b f h - d e^{2} + d f^{2}\\right) - b x \\left(a e g - a f h + b e h - b f g - c e^{2} + c f^{2}\\right) - e z \\left(a^{2} h - a c f - a d e - b^{2} h + b c e + b d f\\right) + f y \\left(a^{2} g - a c e - a d f - b^{2} g + b c f + b d e\\right)}{a^{2} g^{2} - a^{2} h^{2} - 2 a c e g + 2 a c f h + 2 a d e h - 2 a d f g - b^{2} g^{2} + b^{2} h^{2} - 2 b c e h + 2 b c f g + 2 b d e g - 2 b d f h + c^{2} e^{2} - c^{2} f^{2} - d^{2} e^{2} + d^{2} f^{2}}\\\\\\frac{c w \\left(a g^{2} - a h^{2} - c e g + c f h + d e h - d f g\\right) - d x \\left(b g^{2} - b h^{2} + c e h - c f g - d e g + d f h\\right) - g z \\left(a c g - a d h + b c h - b d g - c^{2} e + d^{2} e\\right) + h y \\left(a c h - a d g + b c g - b d h - c^{2} f + d^{2} f\\right)}{a^{2} g^{2} - a^{2} h^{2} - 2 a c e g + 2 a c f h + 2 a d e h - 2 a d f g - b^{2} g^{2} + b^{2} h^{2} - 2 b c e h + 2 b c f g + 2 b d e g - 2 b d f h + c^{2} e^{2} - c^{2} f^{2} - d^{2} e^{2} + d^{2} f^{2}} & \\frac{- c w \\left(a e g - a f h + b e h - b f g - c e^{2} + c f^{2}\\right) + d x \\left(a e h - a f g + b e g - b f h - d e^{2} + d f^{2}\\right) + g z \\left(a^{2} g - a c e - a d f - b^{2} g + b c f + b d e\\right) - h y \\left(a^{2} h - a c f - a d e - b^{2} h + b c e + b d f\\right)}{a^{2} g^{2} - a^{2} h^{2} - 2 a c e g + 2 a c f h + 2 a d e h - 2 a d f g - b^{2} g^{2} + b^{2} h^{2} - 2 b c e h + 2 b c f g + 2 b d e g - 2 b d f h + c^{2} e^{2} - c^{2} f^{2} - d^{2} e^{2} + d^{2} f^{2}} & \\frac{- c w \\left(b g^{2} - b h^{2} + c e h - c f g - d e g + d f h\\right) + d x \\left(a g^{2} - a h^{2} - c e g + c f h + d e h - d f g\\right) + g z \\left(a c h - a d g + b c g - b d h - c^{2} f + d^{2} f\\right) - h y \\left(a c g - a d h + b c h - b d g - c^{2} e + d^{2} e\\right)}{a^{2} g^{2} - a^{2} h^{2} - 2 a c e g + 2 a c f h + 2 a d e h - 2 a d f g - b^{2} g^{2} + b^{2} h^{2} - 2 b c e h + 2 b c f g + 2 b d e g - 2 b d f h + c^{2} e^{2} - c^{2} f^{2} - d^{2} e^{2} + d^{2} f^{2}} & \\frac{c w \\left(a e h - a f g + b e g - b f h - d e^{2} + d f^{2}\\right) - d x \\left(a e g - a f h + b e h - b f g - c e^{2} + c f^{2}\\right) - g z \\left(a^{2} h - a c f - a d e - b^{2} h + b c e + b d f\\right) + h y \\left(a^{2} g - a c e - a d f - b^{2} g + b c f + b d e\\right)}{a^{2} g^{2} - a^{2} h^{2} - 2 a c e g + 2 a c f h + 2 a d e h - 2 a d f g - b^{2} g^{2} + b^{2} h^{2} - 2 b c e h + 2 b c f g + 2 b d e g - 2 b d f h + c^{2} e^{2} - c^{2} f^{2} - d^{2} e^{2} + d^{2} f^{2}}\\\\\\frac{- a x \\left(b g^{2} - b h^{2} + c e h - c f g - d e g + d f h\\right) + b w \\left(a g^{2} - a h^{2} - c e g + c f h + d e h - d f g\\right) + e y \\left(a c h - a d g + b c g - b d h - c^{2} f + d^{2} f\\right) - f z \\left(a c g - a d h + b c h - b d g - c^{2} e + d^{2} e\\right)}{a^{2} g^{2} - a^{2} h^{2} - 2 a c e g + 2 a c f h + 2 a d e h - 2 a d f g - b^{2} g^{2} + b^{2} h^{2} - 2 b c e h + 2 b c f g + 2 b d e g - 2 b d f h + c^{2} e^{2} - c^{2} f^{2} - d^{2} e^{2} + d^{2} f^{2}} & \\frac{a x \\left(a e h - a f g + b e g - b f h - d e^{2} + d f^{2}\\right) - b w \\left(a e g - a f h + b e h - b f g - c e^{2} + c f^{2}\\right) - e y \\left(a^{2} h - a c f - a d e - b^{2} h + b c e + b d f\\right) + f z \\left(a^{2} g - a c e - a d f - b^{2} g + b c f + b d e\\right)}{a^{2} g^{2} - a^{2} h^{2} - 2 a c e g + 2 a c f h + 2 a d e h - 2 a d f g - b^{2} g^{2} + b^{2} h^{2} - 2 b c e h + 2 b c f g + 2 b d e g - 2 b d f h + c^{2} e^{2} - c^{2} f^{2} - d^{2} e^{2} + d^{2} f^{2}} & \\frac{a x \\left(a g^{2} - a h^{2} - c e g + c f h + d e h - d f g\\right) - b w \\left(b g^{2} - b h^{2} + c e h - c f g - d e g + d f h\\right) - e y \\left(a c g - a d h + b c h - b d g - c^{2} e + d^{2} e\\right) + f z \\left(a c h - a d g + b c g - b d h - c^{2} f + d^{2} f\\right)}{a^{2} g^{2} - a^{2} h^{2} - 2 a c e g + 2 a c f h + 2 a d e h - 2 a d f g - b^{2} g^{2} + b^{2} h^{2} - 2 b c e h + 2 b c f g + 2 b d e g - 2 b d f h + c^{2} e^{2} - c^{2} f^{2} - d^{2} e^{2} + d^{2} f^{2}} & \\frac{- a x \\left(a e g - a f h + b e h - b f g - c e^{2} + c f^{2}\\right) + b w \\left(a e h - a f g + b e g - b f h - d e^{2} + d f^{2}\\right) + e y \\left(a^{2} g - a c e - a d f - b^{2} g + b c f + b d e\\right) - f z \\left(a^{2} h - a c f - a d e - b^{2} h + b c e + b d f\\right)}{a^{2} g^{2} - a^{2} h^{2} - 2 a c e g + 2 a c f h + 2 a d e h - 2 a d f g - b^{2} g^{2} + b^{2} h^{2} - 2 b c e h + 2 b c f g + 2 b d e g - 2 b d f h + c^{2} e^{2} - c^{2} f^{2} - d^{2} e^{2} + d^{2} f^{2}}\\\\\\frac{- c x \\left(b g^{2} - b h^{2} + c e h - c f g - d e g + d f h\\right) + d w \\left(a g^{2} - a h^{2} - c e g + c f h + d e h - d f g\\right) + g y \\left(a c h - a d g + b c g - b d h - c^{2} f + d^{2} f\\right) - h z \\left(a c g - a d h + b c h - b d g - c^{2} e + d^{2} e\\right)}{a^{2} g^{2} - a^{2} h^{2} - 2 a c e g + 2 a c f h + 2 a d e h - 2 a d f g - b^{2} g^{2} + b^{2} h^{2} - 2 b c e h + 2 b c f g + 2 b d e g - 2 b d f h + c^{2} e^{2} - c^{2} f^{2} - d^{2} e^{2} + d^{2} f^{2}} & \\frac{c x \\left(a e h - a f g + b e g - b f h - d e^{2} + d f^{2}\\right) - d w \\left(a e g - a f h + b e h - b f g - c e^{2} + c f^{2}\\right) - g y \\left(a^{2} h - a c f - a d e - b^{2} h + b c e + b d f\\right) + h z \\left(a^{2} g - a c e - a d f - b^{2} g + b c f + b d e\\right)}{a^{2} g^{2} - a^{2} h^{2} - 2 a c e g + 2 a c f h + 2 a d e h - 2 a d f g - b^{2} g^{2} + b^{2} h^{2} - 2 b c e h + 2 b c f g + 2 b d e g - 2 b d f h + c^{2} e^{2} - c^{2} f^{2} - d^{2} e^{2} + d^{2} f^{2}} & \\frac{c x \\left(a g^{2} - a h^{2} - c e g + c f h + d e h - d f g\\right) - d w \\left(b g^{2} - b h^{2} + c e h - c f g - d e g + d f h\\right) - g y \\left(a c g - a d h + b c h - b d g - c^{2} e + d^{2} e\\right) + h z \\left(a c h - a d g + b c g - b d h - c^{2} f + d^{2} f\\right)}{a^{2} g^{2} - a^{2} h^{2} - 2 a c e g + 2 a c f h + 2 a d e h - 2 a d f g - b^{2} g^{2} + b^{2} h^{2} - 2 b c e h + 2 b c f g + 2 b d e g - 2 b d f h + c^{2} e^{2} - c^{2} f^{2} - d^{2} e^{2} + d^{2} f^{2}} & \\frac{- c x \\left(a e g - a f h + b e h - b f g - c e^{2} + c f^{2}\\right) + d w \\left(a e h - a f g + b e g - b f h - d e^{2} + d f^{2}\\right) + g y \\left(a^{2} g - a c e - a d f - b^{2} g + b c f + b d e\\right) - h z \\left(a^{2} h - a c f - a d e - b^{2} h + b c e + b d f\\right)}{a^{2} g^{2} - a^{2} h^{2} - 2 a c e g + 2 a c f h + 2 a d e h - 2 a d f g - b^{2} g^{2} + b^{2} h^{2} - 2 b c e h + 2 b c f g + 2 b d e g - 2 b d f h + c^{2} e^{2} - c^{2} f^{2} - d^{2} e^{2} + d^{2} f^{2}}\\end{matrix}\\right]$"
      ],
      "text/plain": [
       "Matrix([\n",
       "[ (a*w*(a*g**2 - a*h**2 - c*e*g + c*f*h + d*e*h - d*f*g) - b*x*(b*g**2 - b*h**2 + c*e*h - c*f*g - d*e*g + d*f*h) - e*z*(a*c*g - a*d*h + b*c*h - b*d*g - c**2*e + d**2*e) + f*y*(a*c*h - a*d*g + b*c*g - b*d*h - c**2*f + d**2*f))/(a**2*g**2 - a**2*h**2 - 2*a*c*e*g + 2*a*c*f*h + 2*a*d*e*h - 2*a*d*f*g - b**2*g**2 + b**2*h**2 - 2*b*c*e*h + 2*b*c*f*g + 2*b*d*e*g - 2*b*d*f*h + c**2*e**2 - c**2*f**2 - d**2*e**2 + d**2*f**2), (-a*w*(a*e*g - a*f*h + b*e*h - b*f*g - c*e**2 + c*f**2) + b*x*(a*e*h - a*f*g + b*e*g - b*f*h - d*e**2 + d*f**2) + e*z*(a**2*g - a*c*e - a*d*f - b**2*g + b*c*f + b*d*e) - f*y*(a**2*h - a*c*f - a*d*e - b**2*h + b*c*e + b*d*f))/(a**2*g**2 - a**2*h**2 - 2*a*c*e*g + 2*a*c*f*h + 2*a*d*e*h - 2*a*d*f*g - b**2*g**2 + b**2*h**2 - 2*b*c*e*h + 2*b*c*f*g + 2*b*d*e*g - 2*b*d*f*h + c**2*e**2 - c**2*f**2 - d**2*e**2 + d**2*f**2), (-a*w*(b*g**2 - b*h**2 + c*e*h - c*f*g - d*e*g + d*f*h) + b*x*(a*g**2 - a*h**2 - c*e*g + c*f*h + d*e*h - d*f*g) + e*z*(a*c*h - a*d*g + b*c*g - b*d*h - c**2*f + d**2*f) - f*y*(a*c*g - a*d*h + b*c*h - b*d*g - c**2*e + d**2*e))/(a**2*g**2 - a**2*h**2 - 2*a*c*e*g + 2*a*c*f*h + 2*a*d*e*h - 2*a*d*f*g - b**2*g**2 + b**2*h**2 - 2*b*c*e*h + 2*b*c*f*g + 2*b*d*e*g - 2*b*d*f*h + c**2*e**2 - c**2*f**2 - d**2*e**2 + d**2*f**2),  (a*w*(a*e*h - a*f*g + b*e*g - b*f*h - d*e**2 + d*f**2) - b*x*(a*e*g - a*f*h + b*e*h - b*f*g - c*e**2 + c*f**2) - e*z*(a**2*h - a*c*f - a*d*e - b**2*h + b*c*e + b*d*f) + f*y*(a**2*g - a*c*e - a*d*f - b**2*g + b*c*f + b*d*e))/(a**2*g**2 - a**2*h**2 - 2*a*c*e*g + 2*a*c*f*h + 2*a*d*e*h - 2*a*d*f*g - b**2*g**2 + b**2*h**2 - 2*b*c*e*h + 2*b*c*f*g + 2*b*d*e*g - 2*b*d*f*h + c**2*e**2 - c**2*f**2 - d**2*e**2 + d**2*f**2)],\n",
       "[ (c*w*(a*g**2 - a*h**2 - c*e*g + c*f*h + d*e*h - d*f*g) - d*x*(b*g**2 - b*h**2 + c*e*h - c*f*g - d*e*g + d*f*h) - g*z*(a*c*g - a*d*h + b*c*h - b*d*g - c**2*e + d**2*e) + h*y*(a*c*h - a*d*g + b*c*g - b*d*h - c**2*f + d**2*f))/(a**2*g**2 - a**2*h**2 - 2*a*c*e*g + 2*a*c*f*h + 2*a*d*e*h - 2*a*d*f*g - b**2*g**2 + b**2*h**2 - 2*b*c*e*h + 2*b*c*f*g + 2*b*d*e*g - 2*b*d*f*h + c**2*e**2 - c**2*f**2 - d**2*e**2 + d**2*f**2), (-c*w*(a*e*g - a*f*h + b*e*h - b*f*g - c*e**2 + c*f**2) + d*x*(a*e*h - a*f*g + b*e*g - b*f*h - d*e**2 + d*f**2) + g*z*(a**2*g - a*c*e - a*d*f - b**2*g + b*c*f + b*d*e) - h*y*(a**2*h - a*c*f - a*d*e - b**2*h + b*c*e + b*d*f))/(a**2*g**2 - a**2*h**2 - 2*a*c*e*g + 2*a*c*f*h + 2*a*d*e*h - 2*a*d*f*g - b**2*g**2 + b**2*h**2 - 2*b*c*e*h + 2*b*c*f*g + 2*b*d*e*g - 2*b*d*f*h + c**2*e**2 - c**2*f**2 - d**2*e**2 + d**2*f**2), (-c*w*(b*g**2 - b*h**2 + c*e*h - c*f*g - d*e*g + d*f*h) + d*x*(a*g**2 - a*h**2 - c*e*g + c*f*h + d*e*h - d*f*g) + g*z*(a*c*h - a*d*g + b*c*g - b*d*h - c**2*f + d**2*f) - h*y*(a*c*g - a*d*h + b*c*h - b*d*g - c**2*e + d**2*e))/(a**2*g**2 - a**2*h**2 - 2*a*c*e*g + 2*a*c*f*h + 2*a*d*e*h - 2*a*d*f*g - b**2*g**2 + b**2*h**2 - 2*b*c*e*h + 2*b*c*f*g + 2*b*d*e*g - 2*b*d*f*h + c**2*e**2 - c**2*f**2 - d**2*e**2 + d**2*f**2),  (c*w*(a*e*h - a*f*g + b*e*g - b*f*h - d*e**2 + d*f**2) - d*x*(a*e*g - a*f*h + b*e*h - b*f*g - c*e**2 + c*f**2) - g*z*(a**2*h - a*c*f - a*d*e - b**2*h + b*c*e + b*d*f) + h*y*(a**2*g - a*c*e - a*d*f - b**2*g + b*c*f + b*d*e))/(a**2*g**2 - a**2*h**2 - 2*a*c*e*g + 2*a*c*f*h + 2*a*d*e*h - 2*a*d*f*g - b**2*g**2 + b**2*h**2 - 2*b*c*e*h + 2*b*c*f*g + 2*b*d*e*g - 2*b*d*f*h + c**2*e**2 - c**2*f**2 - d**2*e**2 + d**2*f**2)],\n",
       "[(-a*x*(b*g**2 - b*h**2 + c*e*h - c*f*g - d*e*g + d*f*h) + b*w*(a*g**2 - a*h**2 - c*e*g + c*f*h + d*e*h - d*f*g) + e*y*(a*c*h - a*d*g + b*c*g - b*d*h - c**2*f + d**2*f) - f*z*(a*c*g - a*d*h + b*c*h - b*d*g - c**2*e + d**2*e))/(a**2*g**2 - a**2*h**2 - 2*a*c*e*g + 2*a*c*f*h + 2*a*d*e*h - 2*a*d*f*g - b**2*g**2 + b**2*h**2 - 2*b*c*e*h + 2*b*c*f*g + 2*b*d*e*g - 2*b*d*f*h + c**2*e**2 - c**2*f**2 - d**2*e**2 + d**2*f**2),  (a*x*(a*e*h - a*f*g + b*e*g - b*f*h - d*e**2 + d*f**2) - b*w*(a*e*g - a*f*h + b*e*h - b*f*g - c*e**2 + c*f**2) - e*y*(a**2*h - a*c*f - a*d*e - b**2*h + b*c*e + b*d*f) + f*z*(a**2*g - a*c*e - a*d*f - b**2*g + b*c*f + b*d*e))/(a**2*g**2 - a**2*h**2 - 2*a*c*e*g + 2*a*c*f*h + 2*a*d*e*h - 2*a*d*f*g - b**2*g**2 + b**2*h**2 - 2*b*c*e*h + 2*b*c*f*g + 2*b*d*e*g - 2*b*d*f*h + c**2*e**2 - c**2*f**2 - d**2*e**2 + d**2*f**2),  (a*x*(a*g**2 - a*h**2 - c*e*g + c*f*h + d*e*h - d*f*g) - b*w*(b*g**2 - b*h**2 + c*e*h - c*f*g - d*e*g + d*f*h) - e*y*(a*c*g - a*d*h + b*c*h - b*d*g - c**2*e + d**2*e) + f*z*(a*c*h - a*d*g + b*c*g - b*d*h - c**2*f + d**2*f))/(a**2*g**2 - a**2*h**2 - 2*a*c*e*g + 2*a*c*f*h + 2*a*d*e*h - 2*a*d*f*g - b**2*g**2 + b**2*h**2 - 2*b*c*e*h + 2*b*c*f*g + 2*b*d*e*g - 2*b*d*f*h + c**2*e**2 - c**2*f**2 - d**2*e**2 + d**2*f**2), (-a*x*(a*e*g - a*f*h + b*e*h - b*f*g - c*e**2 + c*f**2) + b*w*(a*e*h - a*f*g + b*e*g - b*f*h - d*e**2 + d*f**2) + e*y*(a**2*g - a*c*e - a*d*f - b**2*g + b*c*f + b*d*e) - f*z*(a**2*h - a*c*f - a*d*e - b**2*h + b*c*e + b*d*f))/(a**2*g**2 - a**2*h**2 - 2*a*c*e*g + 2*a*c*f*h + 2*a*d*e*h - 2*a*d*f*g - b**2*g**2 + b**2*h**2 - 2*b*c*e*h + 2*b*c*f*g + 2*b*d*e*g - 2*b*d*f*h + c**2*e**2 - c**2*f**2 - d**2*e**2 + d**2*f**2)],\n",
       "[(-c*x*(b*g**2 - b*h**2 + c*e*h - c*f*g - d*e*g + d*f*h) + d*w*(a*g**2 - a*h**2 - c*e*g + c*f*h + d*e*h - d*f*g) + g*y*(a*c*h - a*d*g + b*c*g - b*d*h - c**2*f + d**2*f) - h*z*(a*c*g - a*d*h + b*c*h - b*d*g - c**2*e + d**2*e))/(a**2*g**2 - a**2*h**2 - 2*a*c*e*g + 2*a*c*f*h + 2*a*d*e*h - 2*a*d*f*g - b**2*g**2 + b**2*h**2 - 2*b*c*e*h + 2*b*c*f*g + 2*b*d*e*g - 2*b*d*f*h + c**2*e**2 - c**2*f**2 - d**2*e**2 + d**2*f**2),  (c*x*(a*e*h - a*f*g + b*e*g - b*f*h - d*e**2 + d*f**2) - d*w*(a*e*g - a*f*h + b*e*h - b*f*g - c*e**2 + c*f**2) - g*y*(a**2*h - a*c*f - a*d*e - b**2*h + b*c*e + b*d*f) + h*z*(a**2*g - a*c*e - a*d*f - b**2*g + b*c*f + b*d*e))/(a**2*g**2 - a**2*h**2 - 2*a*c*e*g + 2*a*c*f*h + 2*a*d*e*h - 2*a*d*f*g - b**2*g**2 + b**2*h**2 - 2*b*c*e*h + 2*b*c*f*g + 2*b*d*e*g - 2*b*d*f*h + c**2*e**2 - c**2*f**2 - d**2*e**2 + d**2*f**2),  (c*x*(a*g**2 - a*h**2 - c*e*g + c*f*h + d*e*h - d*f*g) - d*w*(b*g**2 - b*h**2 + c*e*h - c*f*g - d*e*g + d*f*h) - g*y*(a*c*g - a*d*h + b*c*h - b*d*g - c**2*e + d**2*e) + h*z*(a*c*h - a*d*g + b*c*g - b*d*h - c**2*f + d**2*f))/(a**2*g**2 - a**2*h**2 - 2*a*c*e*g + 2*a*c*f*h + 2*a*d*e*h - 2*a*d*f*g - b**2*g**2 + b**2*h**2 - 2*b*c*e*h + 2*b*c*f*g + 2*b*d*e*g - 2*b*d*f*h + c**2*e**2 - c**2*f**2 - d**2*e**2 + d**2*f**2), (-c*x*(a*e*g - a*f*h + b*e*h - b*f*g - c*e**2 + c*f**2) + d*w*(a*e*h - a*f*g + b*e*g - b*f*h - d*e**2 + d*f**2) + g*y*(a**2*g - a*c*e - a*d*f - b**2*g + b*c*f + b*d*e) - h*z*(a**2*h - a*c*f - a*d*e - b**2*h + b*c*e + b*d*f))/(a**2*g**2 - a**2*h**2 - 2*a*c*e*g + 2*a*c*f*h + 2*a*d*e*h - 2*a*d*f*g - b**2*g**2 + b**2*h**2 - 2*b*c*e*h + 2*b*c*f*g + 2*b*d*e*g - 2*b*d*f*h + c**2*e**2 - c**2*f**2 - d**2*e**2 + d**2*f**2)]])"
      ]
     },
     "execution_count": 17,
     "metadata": {},
     "output_type": "execute_result"
    }
   ],
   "source": [
    "sQ"
   ]
  },
  {
   "cell_type": "code",
   "execution_count": 18,
   "metadata": {},
   "outputs": [
    {
     "data": {
      "text/plain": [
       "'Matrix([[(a*w*(a*g**2 - a*h**2 - c*e*g + c*f*h + d*e*h - d*f*g) - b*x*(b*g**2 - b*h**2 + c*e*h - c*f*g - d*e*g + d*f*h) - e*z*(a*c*g - a*d*h + b*c*h - b*d*g - c**2*e + d**2*e) + f*y*(a*c*h - a*d*g + b*c*g - b*d*h - c**2*f + d**2*f))/(a**2*g**2 - a**2*h**2 - 2*a*c*e*g + 2*a*c*f*h + 2*a*d*e*h - 2*a*d*f*g - b**2*g**2 + b**2*h**2 - 2*b*c*e*h + 2*b*c*f*g + 2*b*d*e*g - 2*b*d*f*h + c**2*e**2 - c**2*f**2 - d**2*e**2 + d**2*f**2), (-a*w*(a*e*g - a*f*h + b*e*h - b*f*g - c*e**2 + c*f**2) + b*x*(a*e*h - a*f*g + b*e*g - b*f*h - d*e**2 + d*f**2) + e*z*(a**2*g - a*c*e - a*d*f - b**2*g + b*c*f + b*d*e) - f*y*(a**2*h - a*c*f - a*d*e - b**2*h + b*c*e + b*d*f))/(a**2*g**2 - a**2*h**2 - 2*a*c*e*g + 2*a*c*f*h + 2*a*d*e*h - 2*a*d*f*g - b**2*g**2 + b**2*h**2 - 2*b*c*e*h + 2*b*c*f*g + 2*b*d*e*g - 2*b*d*f*h + c**2*e**2 - c**2*f**2 - d**2*e**2 + d**2*f**2), (-a*w*(b*g**2 - b*h**2 + c*e*h - c*f*g - d*e*g + d*f*h) + b*x*(a*g**2 - a*h**2 - c*e*g + c*f*h + d*e*h - d*f*g) + e*z*(a*c*h - a*d*g + b*c*g - b*d*h - c**2*f + d**2*f) - f*y*(a*c*g - a*d*h + b*c*h - b*d*g - c**2*e + d**2*e))/(a**2*g**2 - a**2*h**2 - 2*a*c*e*g + 2*a*c*f*h + 2*a*d*e*h - 2*a*d*f*g - b**2*g**2 + b**2*h**2 - 2*b*c*e*h + 2*b*c*f*g + 2*b*d*e*g - 2*b*d*f*h + c**2*e**2 - c**2*f**2 - d**2*e**2 + d**2*f**2), (a*w*(a*e*h - a*f*g + b*e*g - b*f*h - d*e**2 + d*f**2) - b*x*(a*e*g - a*f*h + b*e*h - b*f*g - c*e**2 + c*f**2) - e*z*(a**2*h - a*c*f - a*d*e - b**2*h + b*c*e + b*d*f) + f*y*(a**2*g - a*c*e - a*d*f - b**2*g + b*c*f + b*d*e))/(a**2*g**2 - a**2*h**2 - 2*a*c*e*g + 2*a*c*f*h + 2*a*d*e*h - 2*a*d*f*g - b**2*g**2 + b**2*h**2 - 2*b*c*e*h + 2*b*c*f*g + 2*b*d*e*g - 2*b*d*f*h + c**2*e**2 - c**2*f**2 - d**2*e**2 + d**2*f**2)], [(c*w*(a*g**2 - a*h**2 - c*e*g + c*f*h + d*e*h - d*f*g) - d*x*(b*g**2 - b*h**2 + c*e*h - c*f*g - d*e*g + d*f*h) - g*z*(a*c*g - a*d*h + b*c*h - b*d*g - c**2*e + d**2*e) + h*y*(a*c*h - a*d*g + b*c*g - b*d*h - c**2*f + d**2*f))/(a**2*g**2 - a**2*h**2 - 2*a*c*e*g + 2*a*c*f*h + 2*a*d*e*h - 2*a*d*f*g - b**2*g**2 + b**2*h**2 - 2*b*c*e*h + 2*b*c*f*g + 2*b*d*e*g - 2*b*d*f*h + c**2*e**2 - c**2*f**2 - d**2*e**2 + d**2*f**2), (-c*w*(a*e*g - a*f*h + b*e*h - b*f*g - c*e**2 + c*f**2) + d*x*(a*e*h - a*f*g + b*e*g - b*f*h - d*e**2 + d*f**2) + g*z*(a**2*g - a*c*e - a*d*f - b**2*g + b*c*f + b*d*e) - h*y*(a**2*h - a*c*f - a*d*e - b**2*h + b*c*e + b*d*f))/(a**2*g**2 - a**2*h**2 - 2*a*c*e*g + 2*a*c*f*h + 2*a*d*e*h - 2*a*d*f*g - b**2*g**2 + b**2*h**2 - 2*b*c*e*h + 2*b*c*f*g + 2*b*d*e*g - 2*b*d*f*h + c**2*e**2 - c**2*f**2 - d**2*e**2 + d**2*f**2), (-c*w*(b*g**2 - b*h**2 + c*e*h - c*f*g - d*e*g + d*f*h) + d*x*(a*g**2 - a*h**2 - c*e*g + c*f*h + d*e*h - d*f*g) + g*z*(a*c*h - a*d*g + b*c*g - b*d*h - c**2*f + d**2*f) - h*y*(a*c*g - a*d*h + b*c*h - b*d*g - c**2*e + d**2*e))/(a**2*g**2 - a**2*h**2 - 2*a*c*e*g + 2*a*c*f*h + 2*a*d*e*h - 2*a*d*f*g - b**2*g**2 + b**2*h**2 - 2*b*c*e*h + 2*b*c*f*g + 2*b*d*e*g - 2*b*d*f*h + c**2*e**2 - c**2*f**2 - d**2*e**2 + d**2*f**2), (c*w*(a*e*h - a*f*g + b*e*g - b*f*h - d*e**2 + d*f**2) - d*x*(a*e*g - a*f*h + b*e*h - b*f*g - c*e**2 + c*f**2) - g*z*(a**2*h - a*c*f - a*d*e - b**2*h + b*c*e + b*d*f) + h*y*(a**2*g - a*c*e - a*d*f - b**2*g + b*c*f + b*d*e))/(a**2*g**2 - a**2*h**2 - 2*a*c*e*g + 2*a*c*f*h + 2*a*d*e*h - 2*a*d*f*g - b**2*g**2 + b**2*h**2 - 2*b*c*e*h + 2*b*c*f*g + 2*b*d*e*g - 2*b*d*f*h + c**2*e**2 - c**2*f**2 - d**2*e**2 + d**2*f**2)], [(-a*x*(b*g**2 - b*h**2 + c*e*h - c*f*g - d*e*g + d*f*h) + b*w*(a*g**2 - a*h**2 - c*e*g + c*f*h + d*e*h - d*f*g) + e*y*(a*c*h - a*d*g + b*c*g - b*d*h - c**2*f + d**2*f) - f*z*(a*c*g - a*d*h + b*c*h - b*d*g - c**2*e + d**2*e))/(a**2*g**2 - a**2*h**2 - 2*a*c*e*g + 2*a*c*f*h + 2*a*d*e*h - 2*a*d*f*g - b**2*g**2 + b**2*h**2 - 2*b*c*e*h + 2*b*c*f*g + 2*b*d*e*g - 2*b*d*f*h + c**2*e**2 - c**2*f**2 - d**2*e**2 + d**2*f**2), (a*x*(a*e*h - a*f*g + b*e*g - b*f*h - d*e**2 + d*f**2) - b*w*(a*e*g - a*f*h + b*e*h - b*f*g - c*e**2 + c*f**2) - e*y*(a**2*h - a*c*f - a*d*e - b**2*h + b*c*e + b*d*f) + f*z*(a**2*g - a*c*e - a*d*f - b**2*g + b*c*f + b*d*e))/(a**2*g**2 - a**2*h**2 - 2*a*c*e*g + 2*a*c*f*h + 2*a*d*e*h - 2*a*d*f*g - b**2*g**2 + b**2*h**2 - 2*b*c*e*h + 2*b*c*f*g + 2*b*d*e*g - 2*b*d*f*h + c**2*e**2 - c**2*f**2 - d**2*e**2 + d**2*f**2), (a*x*(a*g**2 - a*h**2 - c*e*g + c*f*h + d*e*h - d*f*g) - b*w*(b*g**2 - b*h**2 + c*e*h - c*f*g - d*e*g + d*f*h) - e*y*(a*c*g - a*d*h + b*c*h - b*d*g - c**2*e + d**2*e) + f*z*(a*c*h - a*d*g + b*c*g - b*d*h - c**2*f + d**2*f))/(a**2*g**2 - a**2*h**2 - 2*a*c*e*g + 2*a*c*f*h + 2*a*d*e*h - 2*a*d*f*g - b**2*g**2 + b**2*h**2 - 2*b*c*e*h + 2*b*c*f*g + 2*b*d*e*g - 2*b*d*f*h + c**2*e**2 - c**2*f**2 - d**2*e**2 + d**2*f**2), (-a*x*(a*e*g - a*f*h + b*e*h - b*f*g - c*e**2 + c*f**2) + b*w*(a*e*h - a*f*g + b*e*g - b*f*h - d*e**2 + d*f**2) + e*y*(a**2*g - a*c*e - a*d*f - b**2*g + b*c*f + b*d*e) - f*z*(a**2*h - a*c*f - a*d*e - b**2*h + b*c*e + b*d*f))/(a**2*g**2 - a**2*h**2 - 2*a*c*e*g + 2*a*c*f*h + 2*a*d*e*h - 2*a*d*f*g - b**2*g**2 + b**2*h**2 - 2*b*c*e*h + 2*b*c*f*g + 2*b*d*e*g - 2*b*d*f*h + c**2*e**2 - c**2*f**2 - d**2*e**2 + d**2*f**2)], [(-c*x*(b*g**2 - b*h**2 + c*e*h - c*f*g - d*e*g + d*f*h) + d*w*(a*g**2 - a*h**2 - c*e*g + c*f*h + d*e*h - d*f*g) + g*y*(a*c*h - a*d*g + b*c*g - b*d*h - c**2*f + d**2*f) - h*z*(a*c*g - a*d*h + b*c*h - b*d*g - c**2*e + d**2*e))/(a**2*g**2 - a**2*h**2 - 2*a*c*e*g + 2*a*c*f*h + 2*a*d*e*h - 2*a*d*f*g - b**2*g**2 + b**2*h**2 - 2*b*c*e*h + 2*b*c*f*g + 2*b*d*e*g - 2*b*d*f*h + c**2*e**2 - c**2*f**2 - d**2*e**2 + d**2*f**2), (c*x*(a*e*h - a*f*g + b*e*g - b*f*h - d*e**2 + d*f**2) - d*w*(a*e*g - a*f*h + b*e*h - b*f*g - c*e**2 + c*f**2) - g*y*(a**2*h - a*c*f - a*d*e - b**2*h + b*c*e + b*d*f) + h*z*(a**2*g - a*c*e - a*d*f - b**2*g + b*c*f + b*d*e))/(a**2*g**2 - a**2*h**2 - 2*a*c*e*g + 2*a*c*f*h + 2*a*d*e*h - 2*a*d*f*g - b**2*g**2 + b**2*h**2 - 2*b*c*e*h + 2*b*c*f*g + 2*b*d*e*g - 2*b*d*f*h + c**2*e**2 - c**2*f**2 - d**2*e**2 + d**2*f**2), (c*x*(a*g**2 - a*h**2 - c*e*g + c*f*h + d*e*h - d*f*g) - d*w*(b*g**2 - b*h**2 + c*e*h - c*f*g - d*e*g + d*f*h) - g*y*(a*c*g - a*d*h + b*c*h - b*d*g - c**2*e + d**2*e) + h*z*(a*c*h - a*d*g + b*c*g - b*d*h - c**2*f + d**2*f))/(a**2*g**2 - a**2*h**2 - 2*a*c*e*g + 2*a*c*f*h + 2*a*d*e*h - 2*a*d*f*g - b**2*g**2 + b**2*h**2 - 2*b*c*e*h + 2*b*c*f*g + 2*b*d*e*g - 2*b*d*f*h + c**2*e**2 - c**2*f**2 - d**2*e**2 + d**2*f**2), (-c*x*(a*e*g - a*f*h + b*e*h - b*f*g - c*e**2 + c*f**2) + d*w*(a*e*h - a*f*g + b*e*g - b*f*h - d*e**2 + d*f**2) + g*y*(a**2*g - a*c*e - a*d*f - b**2*g + b*c*f + b*d*e) - h*z*(a**2*h - a*c*f - a*d*e - b**2*h + b*c*e + b*d*f))/(a**2*g**2 - a**2*h**2 - 2*a*c*e*g + 2*a*c*f*h + 2*a*d*e*h - 2*a*d*f*g - b**2*g**2 + b**2*h**2 - 2*b*c*e*h + 2*b*c*f*g + 2*b*d*e*g - 2*b*d*f*h + c**2*e**2 - c**2*f**2 - d**2*e**2 + d**2*f**2)]])'"
      ]
     },
     "execution_count": 18,
     "metadata": {},
     "output_type": "execute_result"
    }
   ],
   "source": [
    "str(sQ)"
   ]
  },
  {
   "cell_type": "code",
   "execution_count": null,
   "metadata": {},
   "outputs": [],
   "source": []
  }
 ],
 "metadata": {
  "kernelspec": {
   "display_name": "Python 3 (ipykernel)",
   "language": "python",
   "name": "python3"
  },
  "language_info": {
   "codemirror_mode": {
    "name": "ipython",
    "version": 3
   },
   "file_extension": ".py",
   "mimetype": "text/x-python",
   "name": "python",
   "nbconvert_exporter": "python",
   "pygments_lexer": "ipython3",
   "version": "3.10.9"
  }
 },
 "nbformat": 4,
 "nbformat_minor": 2
}
